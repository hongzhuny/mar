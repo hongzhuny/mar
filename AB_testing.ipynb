{
 "cells": [
  {
   "cell_type": "markdown",
   "metadata": {},
   "source": [
    "AB testing template"
   ]
  },
  {
   "cell_type": "code",
   "execution_count": 2,
   "metadata": {},
   "outputs": [],
   "source": [
    "import pandas as pd\n",
    "import numpy as np\n",
    "\n",
    "# Define the number of data points\n",
    "num_data_points = 100\n",
    "\n",
    "# Define the website versions\n",
    "versions = ['A', 'B']\n",
    "\n",
    "# Generate random revenue values for each version\n",
    "revenue_a = np.random.randint(100, 1000, num_data_points)\n",
    "revenue_b = np.random.randint(100, 1000, num_data_points)\n",
    "\n",
    "# Create a DataFrame with the data\n",
    "data = pd.DataFrame({'version': np.repeat(versions, num_data_points),\n",
    "                     'revenue': np.concatenate([revenue_a, revenue_b])})\n",
    "\n",
    "# Save the DataFrame to a CSV file\n",
    "data.to_csv('mock_data_for_ABTest.csv', index=False)"
   ]
  },
  {
   "cell_type": "code",
   "execution_count": 3,
   "metadata": {},
   "outputs": [
    {
     "data": {
      "text/html": [
       "<div>\n",
       "<style scoped>\n",
       "    .dataframe tbody tr th:only-of-type {\n",
       "        vertical-align: middle;\n",
       "    }\n",
       "\n",
       "    .dataframe tbody tr th {\n",
       "        vertical-align: top;\n",
       "    }\n",
       "\n",
       "    .dataframe thead th {\n",
       "        text-align: right;\n",
       "    }\n",
       "</style>\n",
       "<table border=\"1\" class=\"dataframe\">\n",
       "  <thead>\n",
       "    <tr style=\"text-align: right;\">\n",
       "      <th></th>\n",
       "      <th>version</th>\n",
       "      <th>revenue</th>\n",
       "    </tr>\n",
       "  </thead>\n",
       "  <tbody>\n",
       "    <tr>\n",
       "      <th>0</th>\n",
       "      <td>A</td>\n",
       "      <td>978</td>\n",
       "    </tr>\n",
       "    <tr>\n",
       "      <th>1</th>\n",
       "      <td>A</td>\n",
       "      <td>363</td>\n",
       "    </tr>\n",
       "    <tr>\n",
       "      <th>2</th>\n",
       "      <td>A</td>\n",
       "      <td>909</td>\n",
       "    </tr>\n",
       "    <tr>\n",
       "      <th>3</th>\n",
       "      <td>A</td>\n",
       "      <td>371</td>\n",
       "    </tr>\n",
       "    <tr>\n",
       "      <th>4</th>\n",
       "      <td>A</td>\n",
       "      <td>966</td>\n",
       "    </tr>\n",
       "  </tbody>\n",
       "</table>\n",
       "</div>"
      ],
      "text/plain": [
       "  version  revenue\n",
       "0       A      978\n",
       "1       A      363\n",
       "2       A      909\n",
       "3       A      371\n",
       "4       A      966"
      ]
     },
     "execution_count": 3,
     "metadata": {},
     "output_type": "execute_result"
    }
   ],
   "source": [
    "data.head()"
   ]
  },
  {
   "cell_type": "code",
   "execution_count": 5,
   "metadata": {},
   "outputs": [
    {
     "name": "stdout",
     "output_type": "stream",
     "text": [
      "Confidence Intervals for Group A: (530.1462764018513, 633.8737235981487)\n",
      "Confidence Intervals for Group B: (503.19069201546523, 607.8893079845348)\n",
      "P-Value: 0.476845539116842\n"
     ]
    }
   ],
   "source": [
    "import pandas as pd\n",
    "\n",
    "import scipy.stats as stats\n",
    "\n",
    "# Read the CSV file\n",
    "data = pd.read_csv('mock_data_for_ABTest.csv')\n",
    "\n",
    "# Split the data into two groups based on website version\n",
    "group_a = data[data['version'] == 'A']['revenue']\n",
    "group_b = data[data['version'] == 'B']['revenue']\n",
    "\n",
    "# Perform AB testing using t-test\n",
    "t_statistic, p_value = stats.ttest_ind(group_a, group_b)\n",
    "\n",
    "# Print the results\n",
    "confidence_level = 0.95\n",
    "\n",
    "# Calculate the confidence intervals for group A\n",
    "ci_a = stats.t.interval(confidence_level, len(group_a)-1, loc=group_a.mean(), scale=stats.sem(group_a))\n",
    "\n",
    "# Calculate the confidence intervals for group B\n",
    "ci_b = stats.t.interval(confidence_level, len(group_b)-1, loc=group_b.mean(), scale=stats.sem(group_b))\n",
    "\n",
    "# Print the confidence intervals\n",
    "print('Confidence Intervals for Group A:', ci_a)\n",
    "print('Confidence Intervals for Group B:', ci_b)\n",
    "print('P-Value:', p_value)"
   ]
  },
  {
   "cell_type": "markdown",
   "metadata": {},
   "source": [
    "Test on percent lift"
   ]
  },
  {
   "cell_type": "code",
   "execution_count": 9,
   "metadata": {},
   "outputs": [
    {
     "name": "stdout",
     "output_type": "stream",
     "text": [
      "          date  daily_revenue_A  daily_revenue_B  percentage_lift\n",
      "0   2022-01-01        10.200000        12.200000        19.607843\n",
      "1   2022-01-02        11.566667         8.266667       -28.530259\n",
      "2   2022-01-03        16.466667        14.933333        -9.311741\n",
      "3   2022-01-04         6.633333         3.800000       -42.713568\n",
      "4   2022-01-05        11.133333        15.266667        37.125749\n",
      "5   2022-01-06        13.866667        21.666667        56.250000\n",
      "6   2022-01-07         5.266667        18.933333       259.493671\n",
      "7   2022-01-08        25.233333        20.466667       -18.890357\n",
      "8   2022-01-09        22.966667         9.700000       -57.764877\n",
      "9   2022-01-10        23.200000         8.100000       -65.086207\n",
      "10  2022-01-11        30.733333         8.800000       -71.366594\n",
      "11  2022-01-12        26.233333         4.933333       -81.194409\n",
      "12  2022-01-13        22.400000         4.666667       -79.166667\n",
      "13  2022-01-14         7.300000        28.900000       295.890411\n",
      "14  2022-01-15        24.633333        21.966667       -10.825440\n",
      "15  2022-01-16        29.100000        10.533333       -63.802978\n",
      "16  2022-01-17        13.933333        12.466667       -10.526316\n",
      "17  2022-01-18         6.166667        11.700000        89.729730\n",
      "18  2022-01-19        14.100000        11.233333       -20.330969\n",
      "19  2022-01-20        33.166667        12.166667       -63.316583\n",
      "20  2022-01-21        25.400000         7.366667       -70.997375\n",
      "21  2022-01-22        15.233333        31.466667       106.564551\n",
      "22  2022-01-23        11.766667        16.300000        38.526912\n",
      "23  2022-01-24        16.533333         8.833333       -46.572581\n",
      "24  2022-01-25        16.833333        10.933333       -35.049505\n",
      "25  2022-01-26         7.933333        14.033333        76.890756\n",
      "26  2022-01-27         5.033333        21.933333       335.761589\n",
      "27  2022-01-28        32.500000         3.700000       -88.615385\n",
      "28  2022-01-29        29.833333        32.233333         8.044693\n",
      "29  2022-01-30        13.600000        13.333333        -1.960784\n"
     ]
    }
   ],
   "source": [
    "\n",
    "import pandas as pd\n",
    "import numpy as np\n",
    "import datetime\n",
    "\n",
    "# Define the number of data points\n",
    "num_data_points = 30\n",
    "\n",
    "# Define the website versions\n",
    "versions = ['A', 'B']\n",
    "\n",
    "# Generate random revenue values for each version\n",
    "revenue_a = np.random.randint(100, 1000, num_data_points)\n",
    "revenue_b = np.random.randint(100, 1000, num_data_points)\n",
    "\n",
    "# Generate random dates\n",
    "start_date = datetime.date(2022, 1, 1)\n",
    "dates = [start_date + datetime.timedelta(days=i) for i in range(num_data_points)]\n",
    "\n",
    "# Calculate daily revenue per user for each version\n",
    "daily_revenue_a = revenue_a / num_data_points\n",
    "daily_revenue_b = revenue_b / num_data_points\n",
    "\n",
    "# Calculate percentage lift from version A to version B\n",
    "percentage_lift = ((daily_revenue_b - daily_revenue_a) / daily_revenue_a) * 100\n",
    "\n",
    "# Create a DataFrame with the data\n",
    "data = pd.DataFrame({'date': dates,\n",
    "                     'daily_revenue_A': daily_revenue_a,\n",
    "                     'daily_revenue_B': daily_revenue_b,\n",
    "                     'percentage_lift': percentage_lift})\n",
    "\n"
   ]
  },
  {
   "cell_type": "code",
   "execution_count": 10,
   "metadata": {},
   "outputs": [
    {
     "name": "stdout",
     "output_type": "stream",
     "text": [
      "Fail to reject the null hypothesis\n"
     ]
    }
   ],
   "source": [
    "from scipy.stats import ttest_1samp\n",
    "\n",
    "# Define the null hypothesis (H0) value\n",
    "null_hypothesis = 0\n",
    "\n",
    "# Perform the one-sample t-test\n",
    "t_statistic, p_value = ttest_1samp(percentage_lift, null_hypothesis)\n",
    "\n",
    "# Set the significance level\n",
    "alpha = 0.05\n",
    "\n",
    "# Check if the p-value is less than the significance level\n",
    "if p_value < alpha:\n",
    "    print(\"Reject the null hypothesis\")\n",
    "else:\n",
    "    print(\"Fail to reject the null hypothesis\")\n"
   ]
  },
  {
   "cell_type": "code",
   "execution_count": 12,
   "metadata": {},
   "outputs": [
    {
     "name": "stdout",
     "output_type": "stream",
     "text": [
      "Confidence Interval on the Lift: (-25.528032440002757, 56.052253169822066)\n"
     ]
    }
   ],
   "source": [
    "import scipy.stats as stats\n",
    "\n",
    "# Define the confidence level\n",
    "confidence_level = 0.95\n",
    "\n",
    "# Calculate the standard error of the lift\n",
    "lift_std_error = data['percentage_lift'].std() / np.sqrt(len(data))\n",
    "\n",
    "# Calculate the margin of error\n",
    "margin_of_error = stats.t.ppf((1 + confidence_level) / 2, len(data)-1) * lift_std_error\n",
    "\n",
    "# Calculate the lower and upper bounds of the confidence interval\n",
    "lower_bound = data['percentage_lift'].mean() - margin_of_error\n",
    "upper_bound = data['percentage_lift'].mean() + margin_of_error\n",
    "\n",
    "# Print the confidence interval\n",
    "print('Confidence Interval on the Lift:', (lower_bound, upper_bound))"
   ]
  },
  {
   "cell_type": "code",
   "execution_count": 16,
   "metadata": {},
   "outputs": [
    {
     "data": {
      "image/png": "[encoded data removed]",
      "text/plain": [
       "<Figure size 640x480 with 1 Axes>"
      ]
     },
     "metadata": {},
     "output_type": "display_data"
    }
   ],
   "source": [
    "import matplotlib.pyplot as plt\n",
    "\n",
    "# Plot the confidence interval in horizontal format\n",
    "plt.errorbar([data['percentage_lift'].mean()], ['Lift'], xerr=margin_of_error, fmt='o', capsize=5)\n",
    "\n",
    "# Set the x-axis limits\n",
    "plt.xlim(lower_bound - 10, upper_bound + 10)\n",
    "\n",
    "# Set the plot title and labels\n",
    "plt.title('Confidence Interval of Lift')\n",
    "plt.xlabel('Percentage')\n",
    "plt.axvline(x=0, linestyle='dotted', color='red')\n",
    "\n",
    "# Display the plot\n",
    "plt.show()"
   ]
  },
  {
   "cell_type": "code",
   "execution_count": null,
   "metadata": {},
   "outputs": [],
   "source": []
  }
 ],
 "metadata": {
  "kernelspec": {
   "display_name": ".venv",
   "language": "python",
   "name": "python3"
  },
  "language_info": {
   "codemirror_mode": {
    "name": "ipython",
    "version": 3
   },
   "file_extension": ".py",
   "mimetype": "text/x-python",
   "name": "python",
   "nbconvert_exporter": "python",
   "pygments_lexer": "ipython3",
   "version": "3.9.6"
  }
 },
 "nbformat": 4,
 "nbformat_minor": 2
}
